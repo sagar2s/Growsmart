{
 "cells": [
  {
   "cell_type": "code",
   "execution_count": 5,
   "id": "267fd3d2-50e0-4b5f-a35d-0296aba4d800",
   "metadata": {},
   "outputs": [],
   "source": [
    "import os \n",
    "import cv2\n",
    "import glob\n",
    "import scipy\n",
    "import pandas as pd\n",
    "import numpy as np\n",
    "import tensorflow as tf\n",
    "import matplotlib.pyplot as plt\n",
    "from keras.layers import Dense\n",
    "from keras.models import Sequential\n",
    "from keras.preprocessing import image\n",
    "from keras.utils.vis_utils import plot_model\n",
    "from tensorflow.keras.optimizers import Adam\n",
    "from tensorflow.keras.models import Model\n",
    "from keras.callbacks import ReduceLROnPlateau\n",
    "from tensorflow.keras.applications.vgg16 import VGG16\n",
    "from tensorflow.keras.applications.vgg19 import VGG19\n",
    "from keras.preprocessing.image import ImageDataGenerator\n",
    "from tensorflow.keras.applications.inception_v3 import InceptionV3\n",
    "from tensorflow.keras.applications.inception_v3 import preprocess_input\n",
    "from keras.layers import Convolution2D,Dense,MaxPool2D,Activation,Dropout,Flatten\n",
    "from keras.layers import Input, Add, Dense, Activation, ZeroPadding2D, BatchNormalization, Flatten, Conv2D, AveragePooling2D, MaxPooling2D, GlobalMaxPooling2D"
   ]
  },
  {
   "cell_type": "code",
   "execution_count": 2,
   "id": "3ab2df48-1ac8-4d10-b5d0-3a8254f875f0",
   "metadata": {},
   "outputs": [],
   "source": [
    "def get_files(directory):\n",
    "  if not os.path.exists(directory):\n",
    "    return 0\n",
    "  count=0\n",
    "  # folder crawling\n",
    "  for current_path,dirs,files in os.walk(directory):\n",
    "    for dr in dirs:\n",
    "      count+= len(glob.glob(os.path.join(current_path,dr+\"/*\")))\n",
    "  return count\n",
    "train_dir =\"./output/train\"\n",
    "test_dir=\"./output/val\""
   ]
  },
  {
   "cell_type": "code",
   "execution_count": 3,
   "id": "427474ea-4886-4523-9e0d-e20b5b2335b2",
   "metadata": {},
   "outputs": [
    {
     "name": "stdout",
     "output_type": "stream",
     "text": [
      "38 Classes\n",
      "43429 Train images\n",
      "10876 Test images\n"
     ]
    }
   ],
   "source": [
    "train_samples =get_files(train_dir)\n",
    "n_classes=len(glob.glob(train_dir+\"/*\")) \n",
    "test_samples=get_files(test_dir)\n",
    "print(n_classes,\"Classes\")\n",
    "print(train_samples,\"Train images\")\n",
    "print(test_samples,\"Test images\")"
   ]
  },
  {
   "cell_type": "code",
   "execution_count": 4,
   "id": "161641ec-62c5-4f63-8f1e-11a9cfd24047",
   "metadata": {},
   "outputs": [],
   "source": [
    "train_datagen=ImageDataGenerator(\n",
    "    rescale=1./255,\n",
    "    shear_range=0.2,\n",
    "    zoom_range=0.2,\n",
    "    horizontal_flip=True\n",
    "    )\n",
    "test_datagen=ImageDataGenerator(rescale=1./255)"
   ]
  },
  {
   "cell_type": "code",
   "execution_count": 5,
   "id": "69e0ba4e-b0d8-40ef-80bf-d3315be25daa",
   "metadata": {},
   "outputs": [
    {
     "name": "stdout",
     "output_type": "stream",
     "text": [
      "Found 43429 images belonging to 38 classes.\n",
      "Found 10876 images belonging to 38 classes.\n"
     ]
    }
   ],
   "source": [
    "input_shape=(224,224,3)\n",
    "train_generator =train_datagen.flow_from_directory(train_dir,target_size=(224,224),batch_size=32)\n",
    "test_generator=test_datagen.flow_from_directory(test_dir,shuffle=True,target_size=(224,224),batch_size=32)"
   ]
  },
  {
   "cell_type": "code",
   "execution_count": 6,
   "id": "eec3c52a-d46e-47ec-9b2c-fe3567e09722",
   "metadata": {},
   "outputs": [
    {
     "name": "stdout",
     "output_type": "stream",
     "text": [
      "Model: \"sequential\"\n",
      "_________________________________________________________________\n",
      " Layer (type)                Output Shape              Param #   \n",
      "=================================================================\n",
      " conv2d_1 (Conv2D)           (None, 220, 220, 32)      2432      \n",
      "                                                                 \n",
      " max_pooling2d_1 (MaxPooling  (None, 73, 73, 32)       0         \n",
      " 2D)                                                             \n",
      "                                                                 \n",
      " conv2d_2 (Conv2D)           (None, 71, 71, 32)        9248      \n",
      "                                                                 \n",
      " max_pooling2d_2 (MaxPooling  (None, 35, 35, 32)       0         \n",
      " 2D)                                                             \n",
      "                                                                 \n",
      " conv2d_3 (Conv2D)           (None, 33, 33, 64)        18496     \n",
      "                                                                 \n",
      " max_pooling2d_3 (MaxPooling  (None, 16, 16, 64)       0         \n",
      " 2D)                                                             \n",
      "                                                                 \n",
      " flatten_1 (Flatten)         (None, 16384)             0         \n",
      "                                                                 \n",
      " dense (Dense)               (None, 512)               8389120   \n",
      "                                                                 \n",
      " dropout (Dropout)           (None, 512)               0         \n",
      "                                                                 \n",
      " dense_1 (Dense)             (None, 128)               65664     \n",
      "                                                                 \n",
      " dense_2 (Dense)             (None, 38)                4902      \n",
      "                                                                 \n",
      "=================================================================\n",
      "Total params: 8,489,862\n",
      "Trainable params: 8,489,862\n",
      "Non-trainable params: 0\n",
      "_________________________________________________________________\n"
     ]
    }
   ],
   "source": [
    "model = Sequential()\n",
    "model.add(Conv2D(32, (5, 5),input_shape=input_shape,activation='relu',name=\"conv2d_1\"))\n",
    "model.add(MaxPooling2D(pool_size=(3, 3),name=\"max_pooling2d_1\"))\n",
    "model.add(Conv2D(32, (3, 3),activation='relu',name=\"conv2d_2\"))\n",
    "model.add(MaxPooling2D(pool_size=(2, 2),name=\"max_pooling2d_2\"))\n",
    "model.add(Conv2D(64, (3, 3),activation='relu',name=\"conv2d_3\"))\n",
    "model.add(MaxPooling2D(pool_size=(2, 2),name=\"max_pooling2d_3\"))   \n",
    "model.add(Flatten(name=\"flatten_1\"))\n",
    "model.add(Dense(512,activation='relu'))\n",
    "model.add(Dropout(0.25))\n",
    "model.add(Dense(128,activation='relu'))          \n",
    "model.add(Dense(n_classes,activation='softmax'))\n",
    "model.summary()"
   ]
  },
  {
   "cell_type": "code",
   "execution_count": 7,
   "id": "94c03ba1-7fa9-4f0c-936f-1a1d849ba57f",
   "metadata": {},
   "outputs": [
    {
     "name": "stdout",
     "output_type": "stream",
     "text": [
      "Found 10876 images belonging to 38 classes.\n"
     ]
    }
   ],
   "source": [
    "validation_generator = train_datagen.flow_from_directory(\n",
    "                       test_dir,\n",
    "                       target_size=(224, 224),\n",
    "                       batch_size=32)"
   ]
  },
  {
   "cell_type": "code",
   "execution_count": 8,
   "id": "1d068853-99cd-4bb3-b403-a4d6bdddffab",
   "metadata": {},
   "outputs": [
    {
     "name": "stdout",
     "output_type": "stream",
     "text": [
      "Epoch 1/25\n",
      "1358/1358 [==============================] - 1254s 923ms/step - loss: 1.3930 - accuracy: 0.6000 - val_loss: 0.6717 - val_accuracy: 0.7867 - lr: 0.0010\n",
      "Epoch 2/25\n",
      "1358/1358 [==============================] - 1068s 786ms/step - loss: 0.6358 - accuracy: 0.7988 - val_loss: 0.3874 - val_accuracy: 0.8817 - lr: 0.0010\n",
      "Epoch 3/25\n",
      "1358/1358 [==============================] - 1054s 776ms/step - loss: 0.4564 - accuracy: 0.8524 - val_loss: 0.3290 - val_accuracy: 0.9011 - lr: 0.0010\n",
      "Epoch 4/25\n",
      "1358/1358 [==============================] - 1054s 776ms/step - loss: 0.3712 - accuracy: 0.8794 - val_loss: 0.2878 - val_accuracy: 0.9129 - lr: 0.0010\n",
      "Epoch 5/25\n",
      "1358/1358 [==============================] - 1053s 775ms/step - loss: 0.3206 - accuracy: 0.8968 - val_loss: 0.2717 - val_accuracy: 0.9182 - lr: 0.0010\n",
      "Epoch 6/25\n",
      "1358/1358 [==============================] - 1050s 773ms/step - loss: 0.2806 - accuracy: 0.9094 - val_loss: 0.2671 - val_accuracy: 0.9150 - lr: 0.0010\n",
      "Epoch 7/25\n",
      "1358/1358 [==============================] - 1064s 783ms/step - loss: 0.2542 - accuracy: 0.9170 - val_loss: 0.2461 - val_accuracy: 0.9264 - lr: 0.0010\n",
      "Epoch 8/25\n",
      "1358/1358 [==============================] - 1074s 790ms/step - loss: 0.2334 - accuracy: 0.9238 - val_loss: 0.2358 - val_accuracy: 0.9283 - lr: 0.0010\n",
      "Epoch 9/25\n",
      "1358/1358 [==============================] - 1091s 803ms/step - loss: 0.2224 - accuracy: 0.9280 - val_loss: 0.2394 - val_accuracy: 0.9296 - lr: 0.0010\n",
      "Epoch 10/25\n",
      "1358/1358 [==============================] - 1092s 804ms/step - loss: 0.2001 - accuracy: 0.9335 - val_loss: 0.1756 - val_accuracy: 0.9486 - lr: 0.0010\n",
      "Epoch 11/25\n",
      "1358/1358 [==============================] - 1085s 799ms/step - loss: 0.1864 - accuracy: 0.9388 - val_loss: 0.1980 - val_accuracy: 0.9397 - lr: 0.0010\n",
      "Epoch 12/25\n",
      "1358/1358 [==============================] - 1100s 810ms/step - loss: 0.1790 - accuracy: 0.9416 - val_loss: 0.2754 - val_accuracy: 0.9166 - lr: 0.0010\n",
      "Epoch 13/25\n",
      "1358/1358 [==============================] - 1087s 800ms/step - loss: 0.1763 - accuracy: 0.9426 - val_loss: 0.1611 - val_accuracy: 0.9515 - lr: 0.0010\n",
      "Epoch 14/25\n",
      "1358/1358 [==============================] - 1092s 804ms/step - loss: 0.1643 - accuracy: 0.9465 - val_loss: 0.1807 - val_accuracy: 0.9461 - lr: 0.0010\n",
      "Epoch 15/25\n",
      "1358/1358 [==============================] - 1090s 802ms/step - loss: 0.1515 - accuracy: 0.9517 - val_loss: 0.1531 - val_accuracy: 0.9569 - lr: 0.0010\n",
      "Epoch 16/25\n",
      "1358/1358 [==============================] - 1088s 801ms/step - loss: 0.1544 - accuracy: 0.9498 - val_loss: 0.1872 - val_accuracy: 0.9454 - lr: 0.0010\n",
      "Epoch 17/25\n",
      "1358/1358 [==============================] - 1099s 809ms/step - loss: 0.1359 - accuracy: 0.9562 - val_loss: 0.1365 - val_accuracy: 0.9623 - lr: 0.0010\n",
      "Epoch 18/25\n",
      "1358/1358 [==============================] - 1090s 802ms/step - loss: 0.1407 - accuracy: 0.9554 - val_loss: 0.2894 - val_accuracy: 0.9129 - lr: 0.0010\n",
      "Epoch 19/25\n",
      "1358/1358 [==============================] - 1087s 801ms/step - loss: 0.1390 - accuracy: 0.9555 - val_loss: 0.1539 - val_accuracy: 0.9564 - lr: 0.0010\n",
      "Epoch 20/25\n",
      "1358/1358 [==============================] - 1108s 816ms/step - loss: 0.1281 - accuracy: 0.9594 - val_loss: 0.1379 - val_accuracy: 0.9588 - lr: 0.0010\n",
      "Epoch 21/25\n",
      "1358/1358 [==============================] - 1093s 805ms/step - loss: 0.0621 - accuracy: 0.9799 - val_loss: 0.1053 - val_accuracy: 0.9705 - lr: 3.0000e-04\n",
      "Epoch 22/25\n",
      "1358/1358 [==============================] - 1087s 801ms/step - loss: 0.0566 - accuracy: 0.9820 - val_loss: 0.1057 - val_accuracy: 0.9716 - lr: 3.0000e-04\n",
      "Epoch 23/25\n",
      "1358/1358 [==============================] - 1092s 804ms/step - loss: 0.0492 - accuracy: 0.9833 - val_loss: 0.1058 - val_accuracy: 0.9732 - lr: 3.0000e-04\n",
      "Epoch 24/25\n",
      "1358/1358 [==============================] - 1094s 805ms/step - loss: 0.0475 - accuracy: 0.9844 - val_loss: 0.1002 - val_accuracy: 0.9754 - lr: 3.0000e-04\n",
      "Epoch 25/25\n",
      "1358/1358 [==============================] - 1090s 802ms/step - loss: 0.0463 - accuracy: 0.9845 - val_loss: 0.0992 - val_accuracy: 0.9732 - lr: 3.0000e-04\n"
     ]
    }
   ],
   "source": [
    "model.compile(optimizer='adam',loss = 'categorical_crossentropy',metrics=['accuracy'])\n",
    "history1 = model.fit(\n",
    "    train_generator,\n",
    "    steps_per_epoch=None,\n",
    "    epochs=25,\n",
    "    validation_data=validation_generator,\n",
    "    validation_steps=None,\n",
    "    verbose=1,\n",
    "    callbacks=[ReduceLROnPlateau(monitor='val_loss', factor=0.3,patience=3, min_lr=0.000001)],\n",
    "    shuffle=True\n",
    "    )"
   ]
  },
  {
   "cell_type": "code",
   "execution_count": 11,
   "id": "fa1f54b3",
   "metadata": {},
   "outputs": [
    {
     "name": "stdout",
     "output_type": "stream",
     "text": [
      "340/340 [==============================] - 55s 161ms/step - loss: 0.1080 - accuracy: 0.9726\n"
     ]
    }
   ],
   "source": [
    "scores=model.evaluate(test_generator)"
   ]
  },
  {
   "cell_type": "code",
   "execution_count": 12,
   "id": "b70c6fc5",
   "metadata": {},
   "outputs": [
    {
     "data": {
      "text/plain": [
       "[0.10800498723983765, 0.9726002216339111]"
      ]
     },
     "execution_count": 12,
     "metadata": {},
     "output_type": "execute_result"
    }
   ],
   "source": [
    "scores"
   ]
  },
  {
   "cell_type": "code",
   "execution_count": 14,
   "id": "1f558eef",
   "metadata": {},
   "outputs": [
    {
     "data": {
      "text/plain": [
       "<keras.callbacks.History at 0x1c3686595b0>"
      ]
     },
     "execution_count": 14,
     "metadata": {},
     "output_type": "execute_result"
    }
   ],
   "source": [
    "history1"
   ]
  },
  {
   "cell_type": "code",
   "execution_count": 16,
   "id": "534540b5",
   "metadata": {},
   "outputs": [
    {
     "data": {
      "text/plain": [
       "{'verbose': 1, 'epochs': 25, 'steps': 1358}"
      ]
     },
     "execution_count": 16,
     "metadata": {},
     "output_type": "execute_result"
    }
   ],
   "source": [
    "history1.params"
   ]
  },
  {
   "cell_type": "code",
   "execution_count": 17,
   "id": "ee4b2618",
   "metadata": {},
   "outputs": [
    {
     "data": {
      "text/plain": [
       "dict_keys(['loss', 'accuracy', 'val_loss', 'val_accuracy', 'lr'])"
      ]
     },
     "execution_count": 17,
     "metadata": {},
     "output_type": "execute_result"
    }
   ],
   "source": [
    "history1.history.keys()\n"
   ]
  },
  {
   "cell_type": "code",
   "execution_count": 19,
   "id": "cc687697",
   "metadata": {},
   "outputs": [
    {
     "data": {
      "text/plain": [
       "25"
      ]
     },
     "execution_count": 19,
     "metadata": {},
     "output_type": "execute_result"
    }
   ],
   "source": [
    "len(history1.history['loss'])"
   ]
  },
  {
   "cell_type": "code",
   "execution_count": 22,
   "id": "aa5ad054",
   "metadata": {},
   "outputs": [
    {
     "data": {
      "text/plain": [
       "[0.062069766223430634,\n",
       " 0.05663657188415527,\n",
       " 0.04923561215400696,\n",
       " 0.047467563301324844,\n",
       " 0.046296726912260056]"
      ]
     },
     "execution_count": 22,
     "metadata": {},
     "output_type": "execute_result"
    }
   ],
   "source": [
    "history1.history['loss'][20:]"
   ]
  },
  {
   "cell_type": "code",
   "execution_count": 23,
   "id": "0832941c",
   "metadata": {},
   "outputs": [],
   "source": [
    "acc = history1.history['accuracy']\n",
    "val_acc = history1.history['val_accuracy']\n",
    "\n",
    "loss = history1.history['loss']\n",
    "val_loss = history1.history['val_loss']"
   ]
  },
  {
   "cell_type": "code",
   "execution_count": 25,
   "id": "32390844",
   "metadata": {},
   "outputs": [
    {
     "data": {
      "image/png": "[encoded data removed]",
      "text/plain": [
       "<Figure size 576x576 with 2 Axes>"
      ]
     },
     "metadata": {
      "needs_background": "light"
     },
     "output_type": "display_data"
    }
   ],
   "source": [
    "plt.figure(figsize=(8, 8))\n",
    "plt.subplot(1, 2, 1)\n",
    "plt.plot(range(25), acc, label='Training Accuracy')\n",
    "plt.plot(range(25), val_acc, label='Validation Accuracy')\n",
    "plt.legend(loc='lower right')\n",
    "plt.title('Training and Validation Accuracy')\n",
    "\n",
    "plt.subplot(1, 2, 2)\n",
    "plt.plot(range(25), loss, label='Training Loss')\n",
    "plt.plot(range(25), val_loss, label='Validation Loss')\n",
    "plt.legend(loc='upper right')\n",
    "plt.title('Training and Validation Loss')\n",
    "plt.show()"
   ]
  },
  {
   "cell_type": "code",
   "execution_count": 32,
   "id": "668262c1",
   "metadata": {},
   "outputs": [
    {
     "name": "stdout",
     "output_type": "stream",
     "text": [
      "You must install pydot (`pip install pydot`) and install graphviz (see instructions at https://graphviz.gitlab.io/download/) for plot_model/model_to_dot to work.\n"
     ]
    }
   ],
   "source": [
    "tf.keras.utils.plot_model(model,to_file='model_plot.png',show_shapes=True)"
   ]
  },
  {
   "cell_type": "code",
   "execution_count": 2,
   "id": "7a0d2daf-3870-4dc9-aa20-d6b0c4c6e1b2",
   "metadata": {},
   "outputs": [
    {
     "ename": "NameError",
     "evalue": "name 'model' is not defined",
     "output_type": "error",
     "traceback": [
      "\u001b[1;31m---------------------------------------------------------------------------\u001b[0m",
      "\u001b[1;31mNameError\u001b[0m                                 Traceback (most recent call last)",
      "\u001b[1;32m~\\AppData\\Local\\Temp\\ipykernel_10760\\3160406696.py\u001b[0m in \u001b[0;36m<module>\u001b[1;34m\u001b[0m\n\u001b[1;32m----> 1\u001b[1;33m \u001b[0mmodel\u001b[0m\u001b[1;33m.\u001b[0m\u001b[0msave\u001b[0m\u001b[1;33m(\u001b[0m\u001b[1;34m'./saved_model/detect_using_cnn_25epc.h5'\u001b[0m\u001b[1;33m)\u001b[0m\u001b[1;33m\u001b[0m\u001b[1;33m\u001b[0m\u001b[0m\n\u001b[0m",
      "\u001b[1;31mNameError\u001b[0m: name 'model' is not defined"
     ]
    }
   ],
   "source": [
    "model.save('./saved_model/detect_using_cnn_25epc.h5')"
   ]
  },
  {
   "cell_type": "code",
   "execution_count": 6,
   "id": "7f996dc6-8c16-460e-89ab-58c55cae187a",
   "metadata": {},
   "outputs": [],
   "source": [
    "model1=tf.keras.models.load_model('./saved_model/detect_using_cnn_25epc.h5')"
   ]
  },
  {
   "cell_type": "code",
   "execution_count": 7,
   "id": "a80ec254-c439-420b-a5d0-240bf8715d3f",
   "metadata": {},
   "outputs": [
    {
     "ename": "NameError",
     "evalue": "name 'plot_model' is not defined",
     "output_type": "error",
     "traceback": [
      "\u001b[1;31m---------------------------------------------------------------------------\u001b[0m",
      "\u001b[1;31mNameError\u001b[0m                                 Traceback (most recent call last)",
      "\u001b[1;32m~\\AppData\\Local\\Temp\\ipykernel_10760\\2317960580.py\u001b[0m in \u001b[0;36m<module>\u001b[1;34m\u001b[0m\n\u001b[1;32m----> 1\u001b[1;33m \u001b[0mplot_model\u001b[0m\u001b[1;33m(\u001b[0m\u001b[0mmodel1\u001b[0m\u001b[1;33m,\u001b[0m \u001b[0mto_file\u001b[0m\u001b[1;33m=\u001b[0m\u001b[1;34m'model_plot.png'\u001b[0m\u001b[1;33m,\u001b[0m \u001b[0mshow_shapes\u001b[0m\u001b[1;33m=\u001b[0m\u001b[1;32mTrue\u001b[0m\u001b[1;33m,\u001b[0m \u001b[0mshow_layer_names\u001b[0m\u001b[1;33m=\u001b[0m\u001b[1;32mTrue\u001b[0m\u001b[1;33m)\u001b[0m\u001b[1;33m\u001b[0m\u001b[1;33m\u001b[0m\u001b[0m\n\u001b[0m",
      "\u001b[1;31mNameError\u001b[0m: name 'plot_model' is not defined"
     ]
    }
   ],
   "source": [
    "plot_model(model1, to_file='model_plot.png', show_shapes=True, show_layer_names=True)"
   ]
  },
  {
   "cell_type": "code",
   "execution_count": 6,
   "id": "89030cf4-02e3-49b4-821f-c16daaa90f66",
   "metadata": {},
   "outputs": [
    {
     "name": "stdout",
     "output_type": "stream",
     "text": [
      "Model: \"vgg16\"\n",
      "_________________________________________________________________\n",
      " Layer (type)                Output Shape              Param #   \n",
      "=================================================================\n",
      " input_1 (InputLayer)        [(None, 224, 224, 3)]     0         \n",
      "                                                                 \n",
      " block1_conv1 (Conv2D)       (None, 224, 224, 64)      1792      \n",
      "                                                                 \n",
      " block1_conv2 (Conv2D)       (None, 224, 224, 64)      36928     \n",
      "                                                                 \n",
      " block1_pool (MaxPooling2D)  (None, 112, 112, 64)      0         \n",
      "                                                                 \n",
      " block2_conv1 (Conv2D)       (None, 112, 112, 128)     73856     \n",
      "                                                                 \n",
      " block2_conv2 (Conv2D)       (None, 112, 112, 128)     147584    \n",
      "                                                                 \n",
      " block2_pool (MaxPooling2D)  (None, 56, 56, 128)       0         \n",
      "                                                                 \n",
      " block3_conv1 (Conv2D)       (None, 56, 56, 256)       295168    \n",
      "                                                                 \n",
      " block3_conv2 (Conv2D)       (None, 56, 56, 256)       590080    \n",
      "                                                                 \n",
      " block3_conv3 (Conv2D)       (None, 56, 56, 256)       590080    \n",
      "                                                                 \n",
      " block3_pool (MaxPooling2D)  (None, 28, 28, 256)       0         \n",
      "                                                                 \n",
      " block4_conv1 (Conv2D)       (None, 28, 28, 512)       1180160   \n",
      "                                                                 \n",
      " block4_conv2 (Conv2D)       (None, 28, 28, 512)       2359808   \n",
      "                                                                 \n",
      " block4_conv3 (Conv2D)       (None, 28, 28, 512)       2359808   \n",
      "                                                                 \n",
      " block4_pool (MaxPooling2D)  (None, 14, 14, 512)       0         \n",
      "                                                                 \n",
      " block5_conv1 (Conv2D)       (None, 14, 14, 512)       2359808   \n",
      "                                                                 \n",
      " block5_conv2 (Conv2D)       (None, 14, 14, 512)       2359808   \n",
      "                                                                 \n",
      " block5_conv3 (Conv2D)       (None, 14, 14, 512)       2359808   \n",
      "                                                                 \n",
      " block5_pool (MaxPooling2D)  (None, 7, 7, 512)         0         \n",
      "                                                                 \n",
      "=================================================================\n",
      "Total params: 14,714,688\n",
      "Trainable params: 0\n",
      "Non-trainable params: 14,714,688\n",
      "_________________________________________________________________\n"
     ]
    }
   ],
   "source": [
    "\n",
    "def create_Base_model_from_VGG16():  \n",
    "    model = VGG16(\n",
    "        weights = \"imagenet\",\n",
    "        include_top=False, \n",
    "        input_shape = (224,224, 3) # goruntu boyutu\n",
    "        ) \n",
    "    for layer in model.layers:\n",
    "      layer.trainable = False\n",
    "    return model \n",
    "create_Base_model_from_VGG16().summary()"
   ]
  },
  {
   "cell_type": "code",
   "execution_count": 7,
   "id": "82450e52-4265-4611-9ef5-dfea354429ab",
   "metadata": {},
   "outputs": [
    {
     "name": "stdout",
     "output_type": "stream",
     "text": [
      "Model: \"vgg16\"\n",
      "_________________________________________________________________\n",
      " Layer (type)                Output Shape              Param #   \n",
      "=================================================================\n",
      " input_2 (InputLayer)        [(None, 224, 224, 3)]     0         \n",
      "                                                                 \n",
      " block1_conv1 (Conv2D)       (None, 224, 224, 64)      1792      \n",
      "                                                                 \n",
      " block1_conv2 (Conv2D)       (None, 224, 224, 64)      36928     \n",
      "                                                                 \n",
      " block1_pool (MaxPooling2D)  (None, 112, 112, 64)      0         \n",
      "                                                                 \n",
      " block2_conv1 (Conv2D)       (None, 112, 112, 128)     73856     \n",
      "                                                                 \n",
      " block2_conv2 (Conv2D)       (None, 112, 112, 128)     147584    \n",
      "                                                                 \n",
      " block2_pool (MaxPooling2D)  (None, 56, 56, 128)       0         \n",
      "                                                                 \n",
      " block3_conv1 (Conv2D)       (None, 56, 56, 256)       295168    \n",
      "                                                                 \n",
      " block3_conv2 (Conv2D)       (None, 56, 56, 256)       590080    \n",
      "                                                                 \n",
      " block3_conv3 (Conv2D)       (None, 56, 56, 256)       590080    \n",
      "                                                                 \n",
      " block3_pool (MaxPooling2D)  (None, 28, 28, 256)       0         \n",
      "                                                                 \n",
      " block4_conv1 (Conv2D)       (None, 28, 28, 512)       1180160   \n",
      "                                                                 \n",
      " block4_conv2 (Conv2D)       (None, 28, 28, 512)       2359808   \n",
      "                                                                 \n",
      " block4_conv3 (Conv2D)       (None, 28, 28, 512)       2359808   \n",
      "                                                                 \n",
      " block4_pool (MaxPooling2D)  (None, 14, 14, 512)       0         \n",
      "                                                                 \n",
      " block5_conv1 (Conv2D)       (None, 14, 14, 512)       2359808   \n",
      "                                                                 \n",
      " block5_conv2 (Conv2D)       (None, 14, 14, 512)       2359808   \n",
      "                                                                 \n",
      " block5_conv3 (Conv2D)       (None, 14, 14, 512)       2359808   \n",
      "                                                                 \n",
      " block5_pool (MaxPooling2D)  (None, 7, 7, 512)         0         \n",
      "                                                                 \n",
      "=================================================================\n",
      "Total params: 14,714,688\n",
      "Trainable params: 0\n",
      "Non-trainable params: 14,714,688\n",
      "_________________________________________________________________\n"
     ]
    }
   ],
   "source": [
    "def create_Base_model_from_VGG16():  \n",
    "    model = VGG16(\n",
    "        weights = \"imagenet\",\n",
    "        include_top=False, \n",
    "        input_shape = (224,224, 3) # goruntu boyutu\n",
    "        ) \n",
    "    for layer in model.layers:\n",
    "      layer.trainable = False\n",
    "    return model \n",
    "create_Base_model_from_VGG16().summary()"
   ]
  },
  {
   "cell_type": "code",
   "execution_count": 8,
   "id": "f303c480-811b-432a-8972-7fb818c11dd4",
   "metadata": {},
   "outputs": [
    {
     "name": "stdout",
     "output_type": "stream",
     "text": [
      "Model: \"model\"\n",
      "_________________________________________________________________\n",
      " Layer (type)                Output Shape              Param #   \n",
      "=================================================================\n",
      " input_3 (InputLayer)        [(None, 224, 224, 3)]     0         \n",
      "                                                                 \n",
      " block1_conv1 (Conv2D)       (None, 224, 224, 64)      1792      \n",
      "                                                                 \n",
      " block1_conv2 (Conv2D)       (None, 224, 224, 64)      36928     \n",
      "                                                                 \n",
      " block1_pool (MaxPooling2D)  (None, 112, 112, 64)      0         \n",
      "                                                                 \n",
      " block2_conv1 (Conv2D)       (None, 112, 112, 128)     73856     \n",
      "                                                                 \n",
      " block2_conv2 (Conv2D)       (None, 112, 112, 128)     147584    \n",
      "                                                                 \n",
      " block2_pool (MaxPooling2D)  (None, 56, 56, 128)       0         \n",
      "                                                                 \n",
      " block3_conv1 (Conv2D)       (None, 56, 56, 256)       295168    \n",
      "                                                                 \n",
      " block3_conv2 (Conv2D)       (None, 56, 56, 256)       590080    \n",
      "                                                                 \n",
      " block3_conv3 (Conv2D)       (None, 56, 56, 256)       590080    \n",
      "                                                                 \n",
      " block3_pool (MaxPooling2D)  (None, 28, 28, 256)       0         \n",
      "                                                                 \n",
      " block4_conv1 (Conv2D)       (None, 28, 28, 512)       1180160   \n",
      "                                                                 \n",
      " block4_conv2 (Conv2D)       (None, 28, 28, 512)       2359808   \n",
      "                                                                 \n",
      " block4_conv3 (Conv2D)       (None, 28, 28, 512)       2359808   \n",
      "                                                                 \n",
      " block4_pool (MaxPooling2D)  (None, 14, 14, 512)       0         \n",
      "                                                                 \n",
      " block5_conv1 (Conv2D)       (None, 14, 14, 512)       2359808   \n",
      "                                                                 \n",
      " block5_conv2 (Conv2D)       (None, 14, 14, 512)       2359808   \n",
      "                                                                 \n",
      " block5_conv3 (Conv2D)       (None, 14, 14, 512)       2359808   \n",
      "                                                                 \n",
      " block5_pool (MaxPooling2D)  (None, 7, 7, 512)         0         \n",
      "                                                                 \n",
      " flatten (Flatten)           (None, 25088)             0         \n",
      "                                                                 \n",
      " dense (Dense)               (None, 256)               6422784   \n",
      "                                                                 \n",
      " dense_1 (Dense)             (None, 38)                9766      \n",
      "                                                                 \n",
      "=================================================================\n",
      "Total params: 21,147,238\n",
      "Trainable params: 6,432,550\n",
      "Non-trainable params: 14,714,688\n",
      "_________________________________________________________________\n"
     ]
    }
   ],
   "source": [
    "def add_custom_layers():\n",
    "    model = create_Base_model_from_VGG16()\n",
    "    x = model.output\n",
    "    x = tf.keras.layers.Flatten()(x)\n",
    "    x = tf.keras.layers.Dense(256, activation=\"relu\")(x)\n",
    "    predictions = tf.keras.layers.Dense(n_classes, activation=\"softmax\")(x)   \n",
    "    # creating the final model \n",
    "    final_model = tf.keras.models.Model(\n",
    "        inputs = model.input, \n",
    "        outputs = predictions)\n",
    "     \n",
    "    final_model.compile(loss='categorical_crossentropy', optimizer='adam', metrics=['accuracy'])  \n",
    "    return final_model\n",
    "\n",
    "add_custom_layers().summary()"
   ]
  },
  {
   "cell_type": "code",
   "execution_count": 9,
   "id": "99a911f3-8caf-4172-8872-a0853095a254",
   "metadata": {},
   "outputs": [
    {
     "name": "stdout",
     "output_type": "stream",
     "text": [
      "Found 10876 images belonging to 38 classes.\n"
     ]
    }
   ],
   "source": [
    "validation_generator = train_datagen.flow_from_directory(\n",
    "                       test_dir, # same directory as training data\n",
    "                       target_size=(224, 224),\n",
    "                       batch_size=32)"
   ]
  },
  {
   "cell_type": "code",
   "execution_count": 11,
   "id": "672df885-dec6-4301-8873-532a18c038e5",
   "metadata": {},
   "outputs": [
    {
     "name": "stdout",
     "output_type": "stream",
     "text": [
      "Epoch 1/5\n",
      "1358/1358 [==============================] - 9438s 7s/step - loss: 0.6382 - accuracy: 0.8171 - val_loss: 0.3181 - val_accuracy: 0.8972 - lr: 0.0010\n",
      "Epoch 2/5\n",
      "1358/1358 [==============================] - 7769s 6s/step - loss: 0.2704 - accuracy: 0.9106 - val_loss: 0.2255 - val_accuracy: 0.9256 - lr: 0.0010\n",
      "Epoch 3/5\n",
      "1358/1358 [==============================] - 6839s 5s/step - loss: 0.2214 - accuracy: 0.9253 - val_loss: 0.3011 - val_accuracy: 0.9058 - lr: 0.0010\n",
      "Epoch 4/5\n",
      "1358/1358 [==============================] - 7851s 6s/step - loss: 0.2008 - accuracy: 0.9318 - val_loss: 0.3705 - val_accuracy: 0.8879 - lr: 0.0010\n",
      "Epoch 5/5\n",
      "1358/1358 [==============================] - 7905s 6s/step - loss: 0.1766 - accuracy: 0.9403 - val_loss: 0.2653 - val_accuracy: 0.9192 - lr: 0.0010\n"
     ]
    }
   ],
   "source": [
    "model_from_vgg16 = add_custom_layers()\n",
    "history2 = model_from_vgg16.fit(\n",
    "    train_generator,\n",
    "    steps_per_epoch=None,\n",
    "    epochs=5,\n",
    "    validation_data=validation_generator,\n",
    "    validation_steps=None,\n",
    "    verbose=1,\n",
    "    callbacks=[ReduceLROnPlateau(monitor='val_loss', factor=0.3,patience=3, min_lr=0.000001)],\n",
    "    use_multiprocessing=False,\n",
    "    shuffle=True\n",
    "    )"
   ]
  },
  {
   "cell_type": "code",
   "execution_count": 12,
   "id": "a6e4fa23-918a-4c74-8f37-6bad990dd9db",
   "metadata": {},
   "outputs": [],
   "source": [
    "model_from_vgg16.save('./detect_using_VGG16.h5')"
   ]
  }
 ],
 "metadata": {
  "kernelspec": {
   "display_name": "Python 3 (ipykernel)",
   "language": "python",
   "name": "python3"
  },
  "language_info": {
   "codemirror_mode": {
    "name": "ipython",
    "version": 3
   },
   "file_extension": ".py",
   "mimetype": "text/x-python",
   "name": "python",
   "nbconvert_exporter": "python",
   "pygments_lexer": "ipython3",
   "version": "3.9.6"
  }
 },
 "nbformat": 4,
 "nbformat_minor": 5
}
